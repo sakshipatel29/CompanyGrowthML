{
 "cells": [
  {
   "cell_type": "code",
   "execution_count": 1,
   "id": "219e29b5-e97c-472c-9e5a-412fcae47d01",
   "metadata": {},
   "outputs": [],
   "source": [
    "import pandas as pd\n",
    "import numpy as np\n",
    "import matplotlib.pyplot as plt\n",
    "import seaborn as sns\n",
    "from sklearn.model_selection import train_test_split\n",
    "from sklearn.preprocessing import StandardScaler, LabelEncoder\n",
    "from sklearn.linear_model import LogisticRegression\n",
    "from sklearn.ensemble import RandomForestClassifier, GradientBoostingClassifier, RandomForestRegressor\n",
    "from sklearn.svm import SVC\n",
    "from sklearn.impute import SimpleImputer\n",
    "from sklearn.tree import DecisionTreeClassifier\n",
    "import xgboost as xgb\n",
    "from sklearn.metrics import accuracy_score, precision_score, recall_score, f1_score,classification_report, confusion_matrix, mean_squared_error, r2_score\n",
    "#print(pd.__version__)"
   ]
  },
  {
   "cell_type": "code",
   "execution_count": 2,
   "id": "a7ff36bf-5eee-4a62-a83a-53a2bf69ee91",
   "metadata": {},
   "outputs": [
    {
     "data": {
      "text/html": [
       "<div>\n",
       "<style scoped>\n",
       "    .dataframe tbody tr th:only-of-type {\n",
       "        vertical-align: middle;\n",
       "    }\n",
       "\n",
       "    .dataframe tbody tr th {\n",
       "        vertical-align: top;\n",
       "    }\n",
       "\n",
       "    .dataframe thead th {\n",
       "        text-align: right;\n",
       "    }\n",
       "</style>\n",
       "<table border=\"1\" class=\"dataframe\">\n",
       "  <thead>\n",
       "    <tr style=\"text-align: right;\">\n",
       "      <th></th>\n",
       "      <th>Company_name</th>\n",
       "      <th>Description</th>\n",
       "      <th>Ratings</th>\n",
       "      <th>Highly_rated_for</th>\n",
       "      <th>Critically_rated_for</th>\n",
       "      <th>Total_reviews</th>\n",
       "      <th>Avg_salary</th>\n",
       "      <th>Interviews_taken</th>\n",
       "      <th>Total_jobs_available</th>\n",
       "      <th>Total_benefits</th>\n",
       "    </tr>\n",
       "  </thead>\n",
       "  <tbody>\n",
       "    <tr>\n",
       "      <th>0</th>\n",
       "      <td>TCS</td>\n",
       "      <td>IT Services &amp; Consulting | 1 Lakh+ Employees |...</td>\n",
       "      <td>3.8</td>\n",
       "      <td>Job Security, Work Life Balance</td>\n",
       "      <td>Promotions / Appraisal, Salary &amp; Benefits</td>\n",
       "      <td>73.1k</td>\n",
       "      <td>856.9k</td>\n",
       "      <td>6.1k</td>\n",
       "      <td>847</td>\n",
       "      <td>11.5k</td>\n",
       "    </tr>\n",
       "    <tr>\n",
       "      <th>1</th>\n",
       "      <td>Accenture</td>\n",
       "      <td>IT Services &amp; Consulting | 1 Lakh+ Employees |...</td>\n",
       "      <td>4.0</td>\n",
       "      <td>Company Culture, Skill Development / Learning,...</td>\n",
       "      <td>NaN</td>\n",
       "      <td>46.4k</td>\n",
       "      <td>584.6k</td>\n",
       "      <td>4.3k</td>\n",
       "      <td>9.9k</td>\n",
       "      <td>7.1k</td>\n",
       "    </tr>\n",
       "    <tr>\n",
       "      <th>2</th>\n",
       "      <td>Cognizant</td>\n",
       "      <td>IT Services &amp; Consulting | 1 Lakh+ Employees |...</td>\n",
       "      <td>3.9</td>\n",
       "      <td>Skill Development / Learning</td>\n",
       "      <td>Promotions / Appraisal</td>\n",
       "      <td>41.7k</td>\n",
       "      <td>561.5k</td>\n",
       "      <td>3.6k</td>\n",
       "      <td>460</td>\n",
       "      <td>5.8k</td>\n",
       "    </tr>\n",
       "    <tr>\n",
       "      <th>3</th>\n",
       "      <td>Wipro</td>\n",
       "      <td>IT Services &amp; Consulting | 1 Lakh+ Employees |...</td>\n",
       "      <td>3.8</td>\n",
       "      <td>Job Security</td>\n",
       "      <td>Promotions / Appraisal, Salary &amp; Benefits</td>\n",
       "      <td>39.2k</td>\n",
       "      <td>427.4k</td>\n",
       "      <td>3.7k</td>\n",
       "      <td>405</td>\n",
       "      <td>5k</td>\n",
       "    </tr>\n",
       "    <tr>\n",
       "      <th>4</th>\n",
       "      <td>Capgemini</td>\n",
       "      <td>IT Services &amp; Consulting | 1 Lakh+ Employees |...</td>\n",
       "      <td>3.9</td>\n",
       "      <td>Job Security, Work Life Balance, Skill Develop...</td>\n",
       "      <td>Promotions / Appraisal, Salary &amp; Benefits</td>\n",
       "      <td>34k</td>\n",
       "      <td>414.4k</td>\n",
       "      <td>2.8k</td>\n",
       "      <td>719</td>\n",
       "      <td>4k</td>\n",
       "    </tr>\n",
       "  </tbody>\n",
       "</table>\n",
       "</div>"
      ],
      "text/plain": [
       "  Company_name                                        Description  Ratings  \\\n",
       "0          TCS  IT Services & Consulting | 1 Lakh+ Employees |...      3.8   \n",
       "1    Accenture  IT Services & Consulting | 1 Lakh+ Employees |...      4.0   \n",
       "2    Cognizant  IT Services & Consulting | 1 Lakh+ Employees |...      3.9   \n",
       "3        Wipro  IT Services & Consulting | 1 Lakh+ Employees |...      3.8   \n",
       "4    Capgemini  IT Services & Consulting | 1 Lakh+ Employees |...      3.9   \n",
       "\n",
       "                                    Highly_rated_for  \\\n",
       "0                    Job Security, Work Life Balance   \n",
       "1  Company Culture, Skill Development / Learning,...   \n",
       "2                       Skill Development / Learning   \n",
       "3                                       Job Security   \n",
       "4  Job Security, Work Life Balance, Skill Develop...   \n",
       "\n",
       "                        Critically_rated_for Total_reviews Avg_salary  \\\n",
       "0  Promotions / Appraisal, Salary & Benefits         73.1k     856.9k   \n",
       "1                                        NaN         46.4k     584.6k   \n",
       "2                     Promotions / Appraisal         41.7k     561.5k   \n",
       "3  Promotions / Appraisal, Salary & Benefits         39.2k     427.4k   \n",
       "4  Promotions / Appraisal, Salary & Benefits           34k     414.4k   \n",
       "\n",
       "  Interviews_taken Total_jobs_available Total_benefits  \n",
       "0             6.1k                  847          11.5k  \n",
       "1             4.3k                 9.9k           7.1k  \n",
       "2             3.6k                  460           5.8k  \n",
       "3             3.7k                  405             5k  \n",
       "4             2.8k                  719             4k  "
      ]
     },
     "execution_count": 2,
     "metadata": {},
     "output_type": "execute_result"
    }
   ],
   "source": [
    "#READ CSV AND DISPLAY FEW ROWS OF DATA\n",
    "companydata = pd.read_csv(\"companies.csv\")\n",
    "companydata.head()"
   ]
  },
  {
   "cell_type": "code",
   "execution_count": 3,
   "id": "d80631de-52fb-44e9-abe1-387a9f5f6e88",
   "metadata": {},
   "outputs": [
    {
     "name": "stdout",
     "output_type": "stream",
     "text": [
      "<class 'pandas.core.frame.DataFrame'>\n",
      "RangeIndex: 10000 entries, 0 to 9999\n",
      "Data columns (total 10 columns):\n",
      " #   Column                Non-Null Count  Dtype  \n",
      "---  ------                --------------  -----  \n",
      " 0   Company_name          10000 non-null  object \n",
      " 1   Description           10000 non-null  object \n",
      " 2   Ratings               10000 non-null  float64\n",
      " 3   Highly_rated_for      9908 non-null   object \n",
      " 4   Critically_rated_for  2807 non-null   object \n",
      " 5   Total_reviews         10000 non-null  object \n",
      " 6   Avg_salary            10000 non-null  object \n",
      " 7   Interviews_taken      10000 non-null  object \n",
      " 8   Total_jobs_available  10000 non-null  object \n",
      " 9   Total_benefits        10000 non-null  object \n",
      "dtypes: float64(1), object(9)\n",
      "memory usage: 781.4+ KB\n"
     ]
    }
   ],
   "source": [
    "companydata.info()"
   ]
  },
  {
   "cell_type": "code",
   "execution_count": 4,
   "id": "8c1de1cb-9345-42c7-96ee-3e9eaa308deb",
   "metadata": {},
   "outputs": [],
   "source": [
    "for column in companydata.columns:\n",
    "    companydata.rename(columns={column: column.replace('_',' ')}, inplace= True)"
   ]
  },
  {
   "cell_type": "code",
   "execution_count": 5,
   "id": "eda3d190-629b-43f6-a6af-6a1e2ff34f91",
   "metadata": {},
   "outputs": [
    {
     "name": "stdout",
     "output_type": "stream",
     "text": [
      "<class 'pandas.core.frame.DataFrame'>\n",
      "RangeIndex: 10000 entries, 0 to 9999\n",
      "Data columns (total 10 columns):\n",
      " #   Column                Non-Null Count  Dtype  \n",
      "---  ------                --------------  -----  \n",
      " 0   Company name          10000 non-null  object \n",
      " 1   Description           10000 non-null  object \n",
      " 2   Ratings               10000 non-null  float64\n",
      " 3   Highly rated for      9908 non-null   object \n",
      " 4   Critically rated for  2807 non-null   object \n",
      " 5   Total reviews         10000 non-null  object \n",
      " 6   Avg salary            10000 non-null  object \n",
      " 7   Interviews taken      10000 non-null  object \n",
      " 8   Total jobs available  10000 non-null  object \n",
      " 9   Total benefits        10000 non-null  object \n",
      "dtypes: float64(1), object(9)\n",
      "memory usage: 781.4+ KB\n"
     ]
    }
   ],
   "source": [
    "companydata.info()"
   ]
  },
  {
   "cell_type": "code",
   "execution_count": 6,
   "id": "20fa749c-d544-4a96-8c03-6b0649484824",
   "metadata": {},
   "outputs": [
    {
     "data": {
      "text/plain": [
       "0       False\n",
       "1        True\n",
       "2       False\n",
       "3       False\n",
       "4       False\n",
       "        ...  \n",
       "9995     True\n",
       "9996     True\n",
       "9997     True\n",
       "9998     True\n",
       "9999     True\n",
       "Name: Critically rated for, Length: 10000, dtype: bool"
      ]
     },
     "execution_count": 6,
     "metadata": {},
     "output_type": "execute_result"
    }
   ],
   "source": [
    "#CHECK FOR NULL VALUES - 'CRITICALLY RATED FOR'\n",
    "companydata['Critically rated for'].isnull()"
   ]
  },
  {
   "cell_type": "code",
   "execution_count": 7,
   "id": "d3279203-fc53-495a-955b-9c81a1ac73ce",
   "metadata": {},
   "outputs": [],
   "source": [
    "#FILL NULL VALUES - 'CRITICALLY RATED FOR'\n",
    "companydata['Critically rated for'].fillna('Not Applicable',inplace=True)"
   ]
  },
  {
   "cell_type": "code",
   "execution_count": 8,
   "id": "5a81af60-e732-40cd-97e9-d60a91edbb1a",
   "metadata": {},
   "outputs": [
    {
     "data": {
      "text/html": [
       "<div>\n",
       "<style scoped>\n",
       "    .dataframe tbody tr th:only-of-type {\n",
       "        vertical-align: middle;\n",
       "    }\n",
       "\n",
       "    .dataframe tbody tr th {\n",
       "        vertical-align: top;\n",
       "    }\n",
       "\n",
       "    .dataframe thead th {\n",
       "        text-align: right;\n",
       "    }\n",
       "</style>\n",
       "<table border=\"1\" class=\"dataframe\">\n",
       "  <thead>\n",
       "    <tr style=\"text-align: right;\">\n",
       "      <th></th>\n",
       "      <th>Company name</th>\n",
       "      <th>Description</th>\n",
       "      <th>Ratings</th>\n",
       "      <th>Highly rated for</th>\n",
       "      <th>Critically rated for</th>\n",
       "      <th>Total reviews</th>\n",
       "      <th>Avg salary</th>\n",
       "      <th>Interviews taken</th>\n",
       "      <th>Total jobs available</th>\n",
       "      <th>Total benefits</th>\n",
       "    </tr>\n",
       "  </thead>\n",
       "  <tbody>\n",
       "    <tr>\n",
       "      <th>9997</th>\n",
       "      <td>Avians Innovations Technology</td>\n",
       "      <td>Building Material | 51-200 Employees | 17 year...</td>\n",
       "      <td>3.7</td>\n",
       "      <td>Promotions / Appraisal, Work Satisfaction, Sal...</td>\n",
       "      <td>Not Applicable</td>\n",
       "      <td>72</td>\n",
       "      <td>489</td>\n",
       "      <td>3</td>\n",
       "      <td>11</td>\n",
       "      <td>8</td>\n",
       "    </tr>\n",
       "    <tr>\n",
       "      <th>9998</th>\n",
       "      <td>ACPL Systems</td>\n",
       "      <td>Law Enforcement &amp; Security | 51-200 Employees ...</td>\n",
       "      <td>3.3</td>\n",
       "      <td>Promotions / Appraisal, Salary &amp; Benefits, Wor...</td>\n",
       "      <td>Not Applicable</td>\n",
       "      <td>72</td>\n",
       "      <td>520</td>\n",
       "      <td>4</td>\n",
       "      <td>1</td>\n",
       "      <td>10</td>\n",
       "    </tr>\n",
       "    <tr>\n",
       "      <th>9999</th>\n",
       "      <td>Beroe Inc</td>\n",
       "      <td>Management Consulting | 201-500 Employees | 19...</td>\n",
       "      <td>4.5</td>\n",
       "      <td>Work Life Balance, Job Security, Company Culture</td>\n",
       "      <td>Not Applicable</td>\n",
       "      <td>72</td>\n",
       "      <td>585</td>\n",
       "      <td>7</td>\n",
       "      <td>5</td>\n",
       "      <td>14</td>\n",
       "    </tr>\n",
       "  </tbody>\n",
       "</table>\n",
       "</div>"
      ],
      "text/plain": [
       "                       Company name  \\\n",
       "9997  Avians Innovations Technology   \n",
       "9998                   ACPL Systems   \n",
       "9999                      Beroe Inc   \n",
       "\n",
       "                                            Description  Ratings  \\\n",
       "9997  Building Material | 51-200 Employees | 17 year...      3.7   \n",
       "9998  Law Enforcement & Security | 51-200 Employees ...      3.3   \n",
       "9999  Management Consulting | 201-500 Employees | 19...      4.5   \n",
       "\n",
       "                                       Highly rated for Critically rated for  \\\n",
       "9997  Promotions / Appraisal, Work Satisfaction, Sal...       Not Applicable   \n",
       "9998  Promotions / Appraisal, Salary & Benefits, Wor...       Not Applicable   \n",
       "9999   Work Life Balance, Job Security, Company Culture       Not Applicable   \n",
       "\n",
       "     Total reviews Avg salary Interviews taken Total jobs available  \\\n",
       "9997            72        489                3                   11   \n",
       "9998            72        520                4                    1   \n",
       "9999            72        585                7                    5   \n",
       "\n",
       "     Total benefits  \n",
       "9997              8  \n",
       "9998             10  \n",
       "9999             14  "
      ]
     },
     "execution_count": 8,
     "metadata": {},
     "output_type": "execute_result"
    }
   ],
   "source": [
    "companydata.tail(3)"
   ]
  },
  {
   "cell_type": "code",
   "execution_count": 9,
   "id": "a00ef6d6-b43c-4917-b878-d7627f1f17c7",
   "metadata": {},
   "outputs": [
    {
     "data": {
      "text/plain": [
       "0       False\n",
       "1       False\n",
       "2       False\n",
       "3       False\n",
       "4       False\n",
       "        ...  \n",
       "9995    False\n",
       "9996    False\n",
       "9997    False\n",
       "9998    False\n",
       "9999    False\n",
       "Name: Highly rated for, Length: 10000, dtype: bool"
      ]
     },
     "execution_count": 9,
     "metadata": {},
     "output_type": "execute_result"
    }
   ],
   "source": [
    "#CHECK FOR NULL VALUES - 'HIGHLY RATED FOR'\n",
    "companydata['Highly rated for'].isnull()"
   ]
  },
  {
   "cell_type": "code",
   "execution_count": 10,
   "id": "47a594e3-bc7c-47d4-b191-29fc34035f25",
   "metadata": {},
   "outputs": [],
   "source": [
    "#FILL NULL VALUES - 'HIGHLY RATED FOR'\n",
    "companydata['Highly rated for'].fillna('Not Applicable',inplace=True)"
   ]
  },
  {
   "cell_type": "code",
   "execution_count": 11,
   "id": "51f46a71-0b0e-4378-823e-eccd8d8b635e",
   "metadata": {},
   "outputs": [
    {
     "name": "stdout",
     "output_type": "stream",
     "text": [
      "<class 'pandas.core.frame.DataFrame'>\n",
      "RangeIndex: 10000 entries, 0 to 9999\n",
      "Data columns (total 10 columns):\n",
      " #   Column                Non-Null Count  Dtype  \n",
      "---  ------                --------------  -----  \n",
      " 0   Company name          10000 non-null  object \n",
      " 1   Description           10000 non-null  object \n",
      " 2   Ratings               10000 non-null  float64\n",
      " 3   Highly rated for      10000 non-null  object \n",
      " 4   Critically rated for  10000 non-null  object \n",
      " 5   Total reviews         10000 non-null  object \n",
      " 6   Avg salary            10000 non-null  object \n",
      " 7   Interviews taken      10000 non-null  object \n",
      " 8   Total jobs available  10000 non-null  object \n",
      " 9   Total benefits        10000 non-null  object \n",
      "dtypes: float64(1), object(9)\n",
      "memory usage: 781.4+ KB\n"
     ]
    }
   ],
   "source": [
    "companydata.info()"
   ]
  },
  {
   "cell_type": "code",
   "execution_count": 12,
   "id": "a144d3e4-5440-4e54-a57c-0467c405bc6e",
   "metadata": {},
   "outputs": [],
   "source": [
    "# VERIFICATION\n",
    "verify = (companydata['Company name'] == 'Jana Small Finance Bank') & (companydata['Ratings']==3.9)"
   ]
  },
  {
   "cell_type": "code",
   "execution_count": 13,
   "id": "4aca347e-2727-4c86-ab9f-ba2c313d84fd",
   "metadata": {},
   "outputs": [
    {
     "data": {
      "text/html": [
       "<div>\n",
       "<style scoped>\n",
       "    .dataframe tbody tr th:only-of-type {\n",
       "        vertical-align: middle;\n",
       "    }\n",
       "\n",
       "    .dataframe tbody tr th {\n",
       "        vertical-align: top;\n",
       "    }\n",
       "\n",
       "    .dataframe thead th {\n",
       "        text-align: right;\n",
       "    }\n",
       "</style>\n",
       "<table border=\"1\" class=\"dataframe\">\n",
       "  <thead>\n",
       "    <tr style=\"text-align: right;\">\n",
       "      <th></th>\n",
       "      <th>Company name</th>\n",
       "      <th>Description</th>\n",
       "      <th>Ratings</th>\n",
       "      <th>Highly rated for</th>\n",
       "      <th>Critically rated for</th>\n",
       "      <th>Total reviews</th>\n",
       "      <th>Avg salary</th>\n",
       "      <th>Interviews taken</th>\n",
       "      <th>Total jobs available</th>\n",
       "      <th>Total benefits</th>\n",
       "    </tr>\n",
       "  </thead>\n",
       "  <tbody>\n",
       "    <tr>\n",
       "      <th>61</th>\n",
       "      <td>Jana Small Finance Bank</td>\n",
       "      <td>Banking | 10k-50k Employees | Public | 18 year...</td>\n",
       "      <td>3.9</td>\n",
       "      <td>Not Applicable</td>\n",
       "      <td>Not Applicable</td>\n",
       "      <td>5.6k</td>\n",
       "      <td>15.3k</td>\n",
       "      <td>178</td>\n",
       "      <td>72</td>\n",
       "      <td>620</td>\n",
       "    </tr>\n",
       "  </tbody>\n",
       "</table>\n",
       "</div>"
      ],
      "text/plain": [
       "               Company name  \\\n",
       "61  Jana Small Finance Bank   \n",
       "\n",
       "                                          Description  Ratings  \\\n",
       "61  Banking | 10k-50k Employees | Public | 18 year...      3.9   \n",
       "\n",
       "   Highly rated for Critically rated for Total reviews Avg salary  \\\n",
       "61   Not Applicable       Not Applicable          5.6k      15.3k   \n",
       "\n",
       "   Interviews taken Total jobs available Total benefits  \n",
       "61              178                   72            620  "
      ]
     },
     "execution_count": 13,
     "metadata": {},
     "output_type": "execute_result"
    }
   ],
   "source": [
    "companydata[verify]"
   ]
  },
  {
   "cell_type": "code",
   "execution_count": 14,
   "id": "184fc1c8-3f2b-43ea-8a19-b9e1b0cf4afa",
   "metadata": {},
   "outputs": [],
   "source": [
    "verify1 = (companydata['Highly rated for'] == 'Job Security') & (companydata['Critically rated for']=='Salary & Benefits')"
   ]
  },
  {
   "cell_type": "code",
   "execution_count": 15,
   "id": "0a4ceea6-63fc-4cdb-837a-33cdd2f41cd3",
   "metadata": {},
   "outputs": [
    {
     "data": {
      "text/html": [
       "<div>\n",
       "<style scoped>\n",
       "    .dataframe tbody tr th:only-of-type {\n",
       "        vertical-align: middle;\n",
       "    }\n",
       "\n",
       "    .dataframe tbody tr th {\n",
       "        vertical-align: top;\n",
       "    }\n",
       "\n",
       "    .dataframe thead th {\n",
       "        text-align: right;\n",
       "    }\n",
       "</style>\n",
       "<table border=\"1\" class=\"dataframe\">\n",
       "  <thead>\n",
       "    <tr style=\"text-align: right;\">\n",
       "      <th></th>\n",
       "      <th>Company name</th>\n",
       "      <th>Description</th>\n",
       "      <th>Ratings</th>\n",
       "      <th>Highly rated for</th>\n",
       "      <th>Critically rated for</th>\n",
       "      <th>Total reviews</th>\n",
       "      <th>Avg salary</th>\n",
       "      <th>Interviews taken</th>\n",
       "      <th>Total jobs available</th>\n",
       "      <th>Total benefits</th>\n",
       "    </tr>\n",
       "  </thead>\n",
       "  <tbody>\n",
       "    <tr>\n",
       "      <th>3472</th>\n",
       "      <td>Country Inns &amp; Suites</td>\n",
       "      <td>Hospitality | 11-50 Employees | 39 years old |...</td>\n",
       "      <td>3.9</td>\n",
       "      <td>Job Security</td>\n",
       "      <td>Salary &amp; Benefits</td>\n",
       "      <td>216</td>\n",
       "      <td>811</td>\n",
       "      <td>4</td>\n",
       "      <td>3</td>\n",
       "      <td>36</td>\n",
       "    </tr>\n",
       "    <tr>\n",
       "      <th>8644</th>\n",
       "      <td>Rishi Laser</td>\n",
       "      <td>201-500 Employees | Public | 32 years old | Mu...</td>\n",
       "      <td>3.9</td>\n",
       "      <td>Job Security</td>\n",
       "      <td>Salary &amp; Benefits</td>\n",
       "      <td>84</td>\n",
       "      <td>381</td>\n",
       "      <td>5</td>\n",
       "      <td>--</td>\n",
       "      <td>11</td>\n",
       "    </tr>\n",
       "  </tbody>\n",
       "</table>\n",
       "</div>"
      ],
      "text/plain": [
       "               Company name  \\\n",
       "3472  Country Inns & Suites   \n",
       "8644            Rishi Laser   \n",
       "\n",
       "                                            Description  Ratings  \\\n",
       "3472  Hospitality | 11-50 Employees | 39 years old |...      3.9   \n",
       "8644  201-500 Employees | Public | 32 years old | Mu...      3.9   \n",
       "\n",
       "     Highly rated for Critically rated for Total reviews Avg salary  \\\n",
       "3472     Job Security    Salary & Benefits           216        811   \n",
       "8644     Job Security    Salary & Benefits            84        381   \n",
       "\n",
       "     Interviews taken Total jobs available Total benefits  \n",
       "3472                4                    3             36  \n",
       "8644                5                   --             11  "
      ]
     },
     "execution_count": 15,
     "metadata": {},
     "output_type": "execute_result"
    }
   ],
   "source": [
    "companydata[verify1].head()"
   ]
  },
  {
   "cell_type": "code",
   "execution_count": 16,
   "id": "4fc71e83-4ab4-415f-a3a7-b339021a4206",
   "metadata": {},
   "outputs": [],
   "source": [
    "companydata[['Highly rated H1','Highly rated H2','Highly rated H3']] = companydata['Highly rated for'].str.split(',',expand=True)\n",
    "companydata['Highly rated H2'].fillna('Not Applicable',inplace=True)\n",
    "companydata['Highly rated H3'].fillna('Not Applicable',inplace=True)"
   ]
  },
  {
   "cell_type": "code",
   "execution_count": 17,
   "id": "18f6cecc-72a0-463a-a76a-af40b632eb68",
   "metadata": {},
   "outputs": [
    {
     "name": "stdout",
     "output_type": "stream",
     "text": [
      "<class 'pandas.core.frame.DataFrame'>\n",
      "RangeIndex: 10000 entries, 0 to 9999\n",
      "Data columns (total 13 columns):\n",
      " #   Column                Non-Null Count  Dtype  \n",
      "---  ------                --------------  -----  \n",
      " 0   Company name          10000 non-null  object \n",
      " 1   Description           10000 non-null  object \n",
      " 2   Ratings               10000 non-null  float64\n",
      " 3   Highly rated for      10000 non-null  object \n",
      " 4   Critically rated for  10000 non-null  object \n",
      " 5   Total reviews         10000 non-null  object \n",
      " 6   Avg salary            10000 non-null  object \n",
      " 7   Interviews taken      10000 non-null  object \n",
      " 8   Total jobs available  10000 non-null  object \n",
      " 9   Total benefits        10000 non-null  object \n",
      " 10  Highly rated H1       10000 non-null  object \n",
      " 11  Highly rated H2       10000 non-null  object \n",
      " 12  Highly rated H3       10000 non-null  object \n",
      "dtypes: float64(1), object(12)\n",
      "memory usage: 1015.8+ KB\n"
     ]
    }
   ],
   "source": [
    "companydata.info()"
   ]
  },
  {
   "cell_type": "code",
   "execution_count": 18,
   "id": "8b9812e5-4968-4f55-ba2f-ec512aba857a",
   "metadata": {},
   "outputs": [],
   "source": [
    "verify2 = (companydata['Highly rated H1'] == 'Job Security') | (companydata['Highly rated H2'] == 'Job Security') | (companydata['Highly rated H3'] == 'Job Security'  ) & (companydata['Critically rated for']== 'Salary & Benefits')"
   ]
  },
  {
   "cell_type": "code",
   "execution_count": 19,
   "id": "98e45817-56c3-406e-b38b-d90787dc62f8",
   "metadata": {},
   "outputs": [
    {
     "data": {
      "text/html": [
       "<div>\n",
       "<style scoped>\n",
       "    .dataframe tbody tr th:only-of-type {\n",
       "        vertical-align: middle;\n",
       "    }\n",
       "\n",
       "    .dataframe tbody tr th {\n",
       "        vertical-align: top;\n",
       "    }\n",
       "\n",
       "    .dataframe thead th {\n",
       "        text-align: right;\n",
       "    }\n",
       "</style>\n",
       "<table border=\"1\" class=\"dataframe\">\n",
       "  <thead>\n",
       "    <tr style=\"text-align: right;\">\n",
       "      <th></th>\n",
       "      <th>Company name</th>\n",
       "      <th>Description</th>\n",
       "      <th>Ratings</th>\n",
       "      <th>Highly rated for</th>\n",
       "      <th>Critically rated for</th>\n",
       "      <th>Total reviews</th>\n",
       "      <th>Avg salary</th>\n",
       "      <th>Interviews taken</th>\n",
       "      <th>Total jobs available</th>\n",
       "      <th>Total benefits</th>\n",
       "      <th>Highly rated H1</th>\n",
       "      <th>Highly rated H2</th>\n",
       "      <th>Highly rated H3</th>\n",
       "    </tr>\n",
       "  </thead>\n",
       "  <tbody>\n",
       "    <tr>\n",
       "      <th>0</th>\n",
       "      <td>TCS</td>\n",
       "      <td>IT Services &amp; Consulting | 1 Lakh+ Employees |...</td>\n",
       "      <td>3.8</td>\n",
       "      <td>Job Security, Work Life Balance</td>\n",
       "      <td>Promotions / Appraisal, Salary &amp; Benefits</td>\n",
       "      <td>73.1k</td>\n",
       "      <td>856.9k</td>\n",
       "      <td>6.1k</td>\n",
       "      <td>847</td>\n",
       "      <td>11.5k</td>\n",
       "      <td>Job Security</td>\n",
       "      <td>Work Life Balance</td>\n",
       "      <td>Not Applicable</td>\n",
       "    </tr>\n",
       "    <tr>\n",
       "      <th>3</th>\n",
       "      <td>Wipro</td>\n",
       "      <td>IT Services &amp; Consulting | 1 Lakh+ Employees |...</td>\n",
       "      <td>3.8</td>\n",
       "      <td>Job Security</td>\n",
       "      <td>Promotions / Appraisal, Salary &amp; Benefits</td>\n",
       "      <td>39.2k</td>\n",
       "      <td>427.4k</td>\n",
       "      <td>3.7k</td>\n",
       "      <td>405</td>\n",
       "      <td>5k</td>\n",
       "      <td>Job Security</td>\n",
       "      <td>Not Applicable</td>\n",
       "      <td>Not Applicable</td>\n",
       "    </tr>\n",
       "  </tbody>\n",
       "</table>\n",
       "</div>"
      ],
      "text/plain": [
       "  Company name                                        Description  Ratings  \\\n",
       "0          TCS  IT Services & Consulting | 1 Lakh+ Employees |...      3.8   \n",
       "3        Wipro  IT Services & Consulting | 1 Lakh+ Employees |...      3.8   \n",
       "\n",
       "                  Highly rated for                       Critically rated for  \\\n",
       "0  Job Security, Work Life Balance  Promotions / Appraisal, Salary & Benefits   \n",
       "3                     Job Security  Promotions / Appraisal, Salary & Benefits   \n",
       "\n",
       "  Total reviews Avg salary Interviews taken Total jobs available  \\\n",
       "0         73.1k     856.9k             6.1k                  847   \n",
       "3         39.2k     427.4k             3.7k                  405   \n",
       "\n",
       "  Total benefits Highly rated H1     Highly rated H2 Highly rated H3  \n",
       "0          11.5k    Job Security   Work Life Balance  Not Applicable  \n",
       "3             5k    Job Security      Not Applicable  Not Applicable  "
      ]
     },
     "execution_count": 19,
     "metadata": {},
     "output_type": "execute_result"
    }
   ],
   "source": [
    "companydata[verify2].head(2)"
   ]
  },
  {
   "cell_type": "code",
   "execution_count": 20,
   "id": "e11f09e9-b531-49a6-b563-70cd688633ff",
   "metadata": {},
   "outputs": [],
   "source": [
    "companydata[['Critically rated C1','Critically rated C2','Critically rated C3']] =companydata['Critically rated for'].str.split(',',expand=True)\n",
    "companydata['Critically rated C2'].fillna('Not Applicable',inplace=True)\n",
    "companydata['Critically rated C3'].fillna('Not Applicable',inplace=True)"
   ]
  },
  {
   "cell_type": "code",
   "execution_count": 21,
   "id": "6bed6cb5-0efd-427e-b153-8c70a325b477",
   "metadata": {},
   "outputs": [
    {
     "name": "stdout",
     "output_type": "stream",
     "text": [
      "<class 'pandas.core.frame.DataFrame'>\n",
      "RangeIndex: 10000 entries, 0 to 9999\n",
      "Data columns (total 16 columns):\n",
      " #   Column                Non-Null Count  Dtype  \n",
      "---  ------                --------------  -----  \n",
      " 0   Company name          10000 non-null  object \n",
      " 1   Description           10000 non-null  object \n",
      " 2   Ratings               10000 non-null  float64\n",
      " 3   Highly rated for      10000 non-null  object \n",
      " 4   Critically rated for  10000 non-null  object \n",
      " 5   Total reviews         10000 non-null  object \n",
      " 6   Avg salary            10000 non-null  object \n",
      " 7   Interviews taken      10000 non-null  object \n",
      " 8   Total jobs available  10000 non-null  object \n",
      " 9   Total benefits        10000 non-null  object \n",
      " 10  Highly rated H1       10000 non-null  object \n",
      " 11  Highly rated H2       10000 non-null  object \n",
      " 12  Highly rated H3       10000 non-null  object \n",
      " 13  Critically rated C1   10000 non-null  object \n",
      " 14  Critically rated C2   10000 non-null  object \n",
      " 15  Critically rated C3   10000 non-null  object \n",
      "dtypes: float64(1), object(15)\n",
      "memory usage: 1.2+ MB\n"
     ]
    }
   ],
   "source": [
    "companydata.info()"
   ]
  },
  {
   "cell_type": "code",
   "execution_count": 22,
   "id": "37a1f265-fd34-49cd-9492-bdfcee7ab86d",
   "metadata": {},
   "outputs": [],
   "source": [
    "verify3 = (companydata['Highly rated H1'] == 'Job Security') | (companydata['Highly rated H2'] == 'Job Security') | (companydata['Highly rated H3'] == 'Job Security'  ) & (companydata['Critically rated C1']== 'Promotions / Appraisal') | (companydata['Critically rated C2']== 'Promotions / Appraisal') | (companydata['Critically rated C3']== 'Promotions / Appraisal')"
   ]
  },
  {
   "cell_type": "code",
   "execution_count": 23,
   "id": "d5be77ba-11fe-47ad-b4af-aa0069cb8dfb",
   "metadata": {},
   "outputs": [
    {
     "data": {
      "text/html": [
       "<div>\n",
       "<style scoped>\n",
       "    .dataframe tbody tr th:only-of-type {\n",
       "        vertical-align: middle;\n",
       "    }\n",
       "\n",
       "    .dataframe tbody tr th {\n",
       "        vertical-align: top;\n",
       "    }\n",
       "\n",
       "    .dataframe thead th {\n",
       "        text-align: right;\n",
       "    }\n",
       "</style>\n",
       "<table border=\"1\" class=\"dataframe\">\n",
       "  <thead>\n",
       "    <tr style=\"text-align: right;\">\n",
       "      <th></th>\n",
       "      <th>Company name</th>\n",
       "      <th>Description</th>\n",
       "      <th>Ratings</th>\n",
       "      <th>Highly rated for</th>\n",
       "      <th>Critically rated for</th>\n",
       "      <th>Total reviews</th>\n",
       "      <th>Avg salary</th>\n",
       "      <th>Interviews taken</th>\n",
       "      <th>Total jobs available</th>\n",
       "      <th>Total benefits</th>\n",
       "      <th>Highly rated H1</th>\n",
       "      <th>Highly rated H2</th>\n",
       "      <th>Highly rated H3</th>\n",
       "      <th>Critically rated C1</th>\n",
       "      <th>Critically rated C2</th>\n",
       "      <th>Critically rated C3</th>\n",
       "    </tr>\n",
       "  </thead>\n",
       "  <tbody>\n",
       "    <tr>\n",
       "      <th>0</th>\n",
       "      <td>TCS</td>\n",
       "      <td>IT Services &amp; Consulting | 1 Lakh+ Employees |...</td>\n",
       "      <td>3.8</td>\n",
       "      <td>Job Security, Work Life Balance</td>\n",
       "      <td>Promotions / Appraisal, Salary &amp; Benefits</td>\n",
       "      <td>73.1k</td>\n",
       "      <td>856.9k</td>\n",
       "      <td>6.1k</td>\n",
       "      <td>847</td>\n",
       "      <td>11.5k</td>\n",
       "      <td>Job Security</td>\n",
       "      <td>Work Life Balance</td>\n",
       "      <td>Not Applicable</td>\n",
       "      <td>Promotions / Appraisal</td>\n",
       "      <td>Salary &amp; Benefits</td>\n",
       "      <td>Not Applicable</td>\n",
       "    </tr>\n",
       "    <tr>\n",
       "      <th>3</th>\n",
       "      <td>Wipro</td>\n",
       "      <td>IT Services &amp; Consulting | 1 Lakh+ Employees |...</td>\n",
       "      <td>3.8</td>\n",
       "      <td>Job Security</td>\n",
       "      <td>Promotions / Appraisal, Salary &amp; Benefits</td>\n",
       "      <td>39.2k</td>\n",
       "      <td>427.4k</td>\n",
       "      <td>3.7k</td>\n",
       "      <td>405</td>\n",
       "      <td>5k</td>\n",
       "      <td>Job Security</td>\n",
       "      <td>Not Applicable</td>\n",
       "      <td>Not Applicable</td>\n",
       "      <td>Promotions / Appraisal</td>\n",
       "      <td>Salary &amp; Benefits</td>\n",
       "      <td>Not Applicable</td>\n",
       "    </tr>\n",
       "  </tbody>\n",
       "</table>\n",
       "</div>"
      ],
      "text/plain": [
       "  Company name                                        Description  Ratings  \\\n",
       "0          TCS  IT Services & Consulting | 1 Lakh+ Employees |...      3.8   \n",
       "3        Wipro  IT Services & Consulting | 1 Lakh+ Employees |...      3.8   \n",
       "\n",
       "                  Highly rated for                       Critically rated for  \\\n",
       "0  Job Security, Work Life Balance  Promotions / Appraisal, Salary & Benefits   \n",
       "3                     Job Security  Promotions / Appraisal, Salary & Benefits   \n",
       "\n",
       "  Total reviews Avg salary Interviews taken Total jobs available  \\\n",
       "0         73.1k     856.9k             6.1k                  847   \n",
       "3         39.2k     427.4k             3.7k                  405   \n",
       "\n",
       "  Total benefits Highly rated H1     Highly rated H2 Highly rated H3  \\\n",
       "0          11.5k    Job Security   Work Life Balance  Not Applicable   \n",
       "3             5k    Job Security      Not Applicable  Not Applicable   \n",
       "\n",
       "      Critically rated C1 Critically rated C2 Critically rated C3  \n",
       "0  Promotions / Appraisal   Salary & Benefits      Not Applicable  \n",
       "3  Promotions / Appraisal   Salary & Benefits      Not Applicable  "
      ]
     },
     "execution_count": 23,
     "metadata": {},
     "output_type": "execute_result"
    }
   ],
   "source": [
    "companydata[verify3].head(2)"
   ]
  },
  {
   "cell_type": "code",
   "execution_count": 24,
   "id": "033d3fe9-f489-47d7-8d78-8af98210a01d",
   "metadata": {},
   "outputs": [
    {
     "data": {
      "text/html": [
       "<div>\n",
       "<style scoped>\n",
       "    .dataframe tbody tr th:only-of-type {\n",
       "        vertical-align: middle;\n",
       "    }\n",
       "\n",
       "    .dataframe tbody tr th {\n",
       "        vertical-align: top;\n",
       "    }\n",
       "\n",
       "    .dataframe thead th {\n",
       "        text-align: right;\n",
       "    }\n",
       "</style>\n",
       "<table border=\"1\" class=\"dataframe\">\n",
       "  <thead>\n",
       "    <tr style=\"text-align: right;\">\n",
       "      <th></th>\n",
       "      <th>Ratings</th>\n",
       "    </tr>\n",
       "  </thead>\n",
       "  <tbody>\n",
       "    <tr>\n",
       "      <th>count</th>\n",
       "      <td>10000.000000</td>\n",
       "    </tr>\n",
       "    <tr>\n",
       "      <th>mean</th>\n",
       "      <td>3.894710</td>\n",
       "    </tr>\n",
       "    <tr>\n",
       "      <th>std</th>\n",
       "      <td>0.385894</td>\n",
       "    </tr>\n",
       "    <tr>\n",
       "      <th>min</th>\n",
       "      <td>1.300000</td>\n",
       "    </tr>\n",
       "    <tr>\n",
       "      <th>25%</th>\n",
       "      <td>3.700000</td>\n",
       "    </tr>\n",
       "    <tr>\n",
       "      <th>50%</th>\n",
       "      <td>3.900000</td>\n",
       "    </tr>\n",
       "    <tr>\n",
       "      <th>75%</th>\n",
       "      <td>4.100000</td>\n",
       "    </tr>\n",
       "    <tr>\n",
       "      <th>max</th>\n",
       "      <td>5.000000</td>\n",
       "    </tr>\n",
       "  </tbody>\n",
       "</table>\n",
       "</div>"
      ],
      "text/plain": [
       "            Ratings\n",
       "count  10000.000000\n",
       "mean       3.894710\n",
       "std        0.385894\n",
       "min        1.300000\n",
       "25%        3.700000\n",
       "50%        3.900000\n",
       "75%        4.100000\n",
       "max        5.000000"
      ]
     },
     "execution_count": 24,
     "metadata": {},
     "output_type": "execute_result"
    }
   ],
   "source": [
    "companydata.describe()"
   ]
  },
  {
   "cell_type": "code",
   "execution_count": 25,
   "id": "5bfbfc37-ba3b-43bb-81fe-a2eedab48e0b",
   "metadata": {},
   "outputs": [
    {
     "data": {
      "text/plain": [
       "3.89471"
      ]
     },
     "execution_count": 25,
     "metadata": {},
     "output_type": "execute_result"
    }
   ],
   "source": [
    "companydata['Ratings'].mean()"
   ]
  },
  {
   "cell_type": "code",
   "execution_count": 26,
   "id": "dedc5654-c391-4ec8-8986-984358d302eb",
   "metadata": {},
   "outputs": [
    {
     "data": {
      "text/plain": [
       "5.0"
      ]
     },
     "execution_count": 26,
     "metadata": {},
     "output_type": "execute_result"
    }
   ],
   "source": [
    "companydata['Ratings'].max()"
   ]
  },
  {
   "cell_type": "code",
   "execution_count": 27,
   "id": "e919713e-fbe4-4fda-8550-04aa75db30fa",
   "metadata": {},
   "outputs": [
    {
     "data": {
      "image/png": "[encoded data removed]",
      "text/plain": [
       "<Figure size 640x480 with 1 Axes>"
      ]
     },
     "metadata": {},
     "output_type": "display_data"
    }
   ],
   "source": [
    "# HISTOGRAM FOR DISTRIBUTION OF RATINGS\n",
    "sns.histplot(data=companydata, x='Ratings', kde=True)\n",
    "plt.title('Distribution of Ratings')\n",
    "plt.xlabel('Ratings')\n",
    "plt.ylabel('Frequency')\n",
    "plt.show()"
   ]
  },
  {
   "cell_type": "code",
   "execution_count": 28,
   "id": "baba37ad",
   "metadata": {},
   "outputs": [],
   "source": [
    "#HIGHLY RATED 10 CATEGORIES CHART "
   ]
  },
  {
   "cell_type": "code",
   "execution_count": 29,
   "id": "120eb938-da2f-4a80-af55-f619501dfb79",
   "metadata": {},
   "outputs": [
    {
     "data": {
      "image/png": "[encoded data removed]",
      "text/plain": [
       "<Figure size 640x480 with 1 Axes>"
      ]
     },
     "metadata": {},
     "output_type": "display_data"
    },
    {
     "data": {
      "text/plain": [
       "<Figure size 1000x800 with 0 Axes>"
      ]
     },
     "metadata": {},
     "output_type": "display_data"
    }
   ],
   "source": [
    "category_counts = companydata['Highly rated for'].value_counts().nlargest(10)\n",
    "sns.barplot(x=category_counts.values, y=category_counts.index)\n",
    "plt.title('Top 10 Highly Rated Categories')\n",
    "plt.xlabel('Frequency')\n",
    "plt.ylabel('Highly rated for')\n",
    "plt.figure(figsize=(10, 8))\n",
    "plt.show()"
   ]
  },
  {
   "cell_type": "code",
   "execution_count": 30,
   "id": "596f2470",
   "metadata": {},
   "outputs": [],
   "source": [
    "#CRITICALLY RATED 10 CATEGORIES CHART "
   ]
  },
  {
   "cell_type": "code",
   "execution_count": 31,
   "id": "521fe95d-de39-44a4-83d3-4592f8a2b5cf",
   "metadata": {},
   "outputs": [
    {
     "data": {
      "image/png": "[encoded data removed]",
      "text/plain": [
       "<Figure size 640x480 with 1 Axes>"
      ]
     },
     "metadata": {},
     "output_type": "display_data"
    },
    {
     "data": {
      "text/plain": [
       "<Figure size 1000x800 with 0 Axes>"
      ]
     },
     "metadata": {},
     "output_type": "display_data"
    }
   ],
   "source": [
    "category_counts = companydata['Critically rated for'].value_counts().nlargest(10)\n",
    "sns.barplot(x=category_counts.values, y=category_counts.index)\n",
    "plt.title('Top 10 Critically Rated Categories')\n",
    "plt.xlabel('Frequency')\n",
    "plt.ylabel('Critically rated for')\n",
    "plt.figure(figsize=(10, 8))\n",
    "plt.show()"
   ]
  },
  {
   "cell_type": "code",
   "execution_count": 32,
   "id": "5cd7ec68-3ab7-4de3-af4b-63b1c3320b40",
   "metadata": {},
   "outputs": [],
   "source": [
    "# SALARY BOX PLOTTING\n",
    "def convert_k_salary(salary):\n",
    "    if isinstance(salary, str):\n",
    "        if salary.lower().endswith('k'):\n",
    "            return float(salary[:-1]) * 1000\n",
    "        else:\n",
    "            try:\n",
    "                return float(salary)\n",
    "            except ValueError:\n",
    "                return np.nan\n",
    "    else:\n",
    "        return salary\n",
    "\n",
    "companydata['Avg salary'] = companydata['Avg salary'].apply(convert_k_salary)"
   ]
  },
  {
   "cell_type": "code",
   "execution_count": 33,
   "id": "94b75899-f54b-4161-a7b2-1137871ea3b8",
   "metadata": {},
   "outputs": [
    {
     "name": "stdout",
     "output_type": "stream",
     "text": [
      "                    Company name  \\\n",
      "7633  Lithium Urban Technologies   \n",
      "6570               MRC Logistics   \n",
      "6732                         DSM   \n",
      "5861      BlazeClan Technologies   \n",
      "7330              Delux Bearings   \n",
      "\n",
      "                                            Description  Ratings  \\\n",
      "7633  Urban Transport | 51-200 Employees | Startup |...      3.5   \n",
      "6570  Logistics | 1k-5k Employees | 53 years old | P...      4.0   \n",
      "6732  Chemicals | 1k-5k Employees | Forbes Global 20...      4.5   \n",
      "5861  IT Services & Consulting | 501-1k Employees | ...      3.8   \n",
      "7330  Auto Components | 501-1k Employees | 68 years ...      4.2   \n",
      "\n",
      "                                       Highly rated for Critically rated for  \\\n",
      "7633  Promotions / Appraisal, Work Satisfaction, Com...       Not Applicable   \n",
      "6570  Salary & Benefits, Company Culture, Work Satis...       Not Applicable   \n",
      "6732  Company Culture, Work Life Balance, Work Satis...       Not Applicable   \n",
      "5861  Skill Development / Learning, Company Culture,...       Not Applicable   \n",
      "7330  Skill Development / Learning, Work Life Balanc...       Not Applicable   \n",
      "\n",
      "     Total reviews  Avg salary Interviews taken Total jobs available  \\\n",
      "7633            95       445.0                4                    6   \n",
      "6570           113       578.0                2                   --   \n",
      "6732           110       622.0                3                    3   \n",
      "5861           126      1600.0               14                   15   \n",
      "7330           100       572.0                3                   --   \n",
      "\n",
      "     Total benefits               Highly rated H1     Highly rated H2  \\\n",
      "7633              5        Promotions / Appraisal   Work Satisfaction   \n",
      "6570              9             Salary & Benefits     Company Culture   \n",
      "6732             18               Company Culture   Work Life Balance   \n",
      "5861             17  Skill Development / Learning     Company Culture   \n",
      "7330             17  Skill Development / Learning   Work Life Balance   \n",
      "\n",
      "         Highly rated H3 Critically rated C1 Critically rated C2  \\\n",
      "7633     Company Culture      Not Applicable      Not Applicable   \n",
      "6570   Work Satisfaction      Not Applicable      Not Applicable   \n",
      "6732   Work Satisfaction      Not Applicable      Not Applicable   \n",
      "5861   Work Life Balance      Not Applicable      Not Applicable   \n",
      "7330        Job Security      Not Applicable      Not Applicable   \n",
      "\n",
      "     Critically rated C3  \n",
      "7633      Not Applicable  \n",
      "6570      Not Applicable  \n",
      "6732      Not Applicable  \n",
      "5861      Not Applicable  \n",
      "7330      Not Applicable  \n"
     ]
    }
   ],
   "source": [
    "print(companydata.sample(5))"
   ]
  },
  {
   "cell_type": "code",
   "execution_count": 34,
   "id": "3d360909-9796-44a1-a372-5319a21a8ef1",
   "metadata": {},
   "outputs": [
    {
     "data": {
      "text/plain": [
       "2382.855271054211"
      ]
     },
     "execution_count": 34,
     "metadata": {},
     "output_type": "execute_result"
    }
   ],
   "source": [
    "companydata['Avg salary'].mean()"
   ]
  },
  {
   "cell_type": "code",
   "execution_count": 35,
   "id": "e09a6a7e-95f3-47b6-85dd-8bf7409d7485",
   "metadata": {},
   "outputs": [
    {
     "data": {
      "text/plain": [
       "856900.0"
      ]
     },
     "execution_count": 35,
     "metadata": {},
     "output_type": "execute_result"
    }
   ],
   "source": [
    "companydata['Avg salary'].max()"
   ]
  },
  {
   "cell_type": "code",
   "execution_count": 36,
   "id": "ced90dd4-b788-4f7e-9fba-d70665f2a58b",
   "metadata": {},
   "outputs": [
    {
     "data": {
      "text/plain": [
       "<Axes: xlabel='Avg salary'>"
      ]
     },
     "execution_count": 36,
     "metadata": {},
     "output_type": "execute_result"
    },
    {
     "data": {
      "image/png": "[encoded data removed]",
      "text/plain": [
       "<Figure size 640x480 with 1 Axes>"
      ]
     },
     "metadata": {},
     "output_type": "display_data"
    }
   ],
   "source": [
    "sns.boxplot(x=companydata['Avg salary'])"
   ]
  },
  {
   "cell_type": "code",
   "execution_count": 37,
   "id": "99a45302",
   "metadata": {},
   "outputs": [],
   "source": [
    "# TOTAL REVIEWS VS TOTAL BENEFITS"
   ]
  },
  {
   "cell_type": "code",
   "execution_count": 38,
   "id": "164757b0-aa87-47e5-ae8e-eb501e0e3f0d",
   "metadata": {},
   "outputs": [],
   "source": [
    "def convert_review(review):\n",
    "    if isinstance(review, str):\n",
    "        if review.lower().endswith('k'):\n",
    "            return float(review[:-1]) * 1000\n",
    "        else:\n",
    "            try:\n",
    "                return float(review)\n",
    "            except ValueError:\n",
    "                return np.nan\n",
    "    else:\n",
    "        return review\n",
    "\n",
    "companydata['Total reviews'] = companydata['Total reviews'].apply(convert_review)"
   ]
  },
  {
   "cell_type": "code",
   "execution_count": 39,
   "id": "a363d584-0689-4433-9b0c-caa1c7b924af",
   "metadata": {},
   "outputs": [
    {
     "data": {
      "text/plain": [
       "415.0845"
      ]
     },
     "execution_count": 39,
     "metadata": {},
     "output_type": "execute_result"
    }
   ],
   "source": [
    "companydata['Total reviews'].mean()"
   ]
  },
  {
   "cell_type": "code",
   "execution_count": 40,
   "id": "3be19da8-ab22-4219-8ab8-7e5ef6653578",
   "metadata": {},
   "outputs": [
    {
     "data": {
      "text/plain": [
       "73100.0"
      ]
     },
     "execution_count": 40,
     "metadata": {},
     "output_type": "execute_result"
    }
   ],
   "source": [
    "companydata['Total reviews'].max()"
   ]
  },
  {
   "cell_type": "code",
   "execution_count": 41,
   "id": "0d226c0f-a78d-4fdc-b29e-bb336a2cfa92",
   "metadata": {},
   "outputs": [],
   "source": [
    "def convert_benefits(benefits):\n",
    "    if isinstance(benefits, str):\n",
    "        if benefits.lower().endswith('k'):\n",
    "            return float(benefits[:-1]) * 1000\n",
    "        else:\n",
    "            try:\n",
    "                return float(benefits)\n",
    "            except ValueError:\n",
    "                return np.nan\n",
    "    else:\n",
    "        return benefits\n",
    "\n",
    "companydata['Total benefits'] = companydata['Total benefits'].apply(convert_benefits)"
   ]
  },
  {
   "cell_type": "code",
   "execution_count": 42,
   "id": "f8de6ef2-3fdc-4913-a212-528796f2467c",
   "metadata": {},
   "outputs": [
    {
     "data": {
      "text/plain": [
       "53.98246144541881"
      ]
     },
     "execution_count": 42,
     "metadata": {},
     "output_type": "execute_result"
    }
   ],
   "source": [
    "companydata['Total benefits'].mean()"
   ]
  },
  {
   "cell_type": "code",
   "execution_count": 43,
   "id": "0249fde1-0bce-4264-9035-2dd88f515fde",
   "metadata": {},
   "outputs": [
    {
     "data": {
      "text/plain": [
       "11500.0"
      ]
     },
     "execution_count": 43,
     "metadata": {},
     "output_type": "execute_result"
    }
   ],
   "source": [
    "companydata['Total benefits'].max()"
   ]
  },
  {
   "cell_type": "code",
   "execution_count": 44,
   "id": "5f2762d1-c9b9-4c14-a3c4-4780140cf1fa",
   "metadata": {
    "scrolled": true
   },
   "outputs": [
    {
     "data": {
      "text/plain": [
       "<Axes: xlabel='Total reviews', ylabel='Total benefits'>"
      ]
     },
     "execution_count": 44,
     "metadata": {},
     "output_type": "execute_result"
    },
    {
     "data": {
      "image/png": "[encoded data removed]",
      "text/plain": [
       "<Figure size 640x480 with 1 Axes>"
      ]
     },
     "metadata": {},
     "output_type": "display_data"
    }
   ],
   "source": [
    "sns.scatterplot(x='Total reviews', y='Total benefits', data=companydata)"
   ]
  },
  {
   "cell_type": "code",
   "execution_count": 45,
   "id": "a0d811d9",
   "metadata": {},
   "outputs": [],
   "source": [
    "#INTERVIEW TAKEN VS JOB AVAILABLE"
   ]
  },
  {
   "cell_type": "code",
   "execution_count": 46,
   "id": "920b93cf-7051-4bbd-96f9-2f565a213f62",
   "metadata": {},
   "outputs": [],
   "source": [
    "def convert_interviews(interview):\n",
    "    if isinstance(interview, str):\n",
    "        if interview.lower().endswith('k'):\n",
    "            return float(interview[:-1]) * 1000\n",
    "        else:\n",
    "            try:\n",
    "                return float(interview)\n",
    "            except ValueError:\n",
    "                return np.nan\n",
    "    else:\n",
    "        return interview\n",
    "\n",
    "companydata['Interviews taken'] = companydata['Interviews taken'].apply(convert_interviews)"
   ]
  },
  {
   "cell_type": "code",
   "execution_count": 47,
   "id": "0a091763-cd8b-48d2-978a-e80193bc195e",
   "metadata": {},
   "outputs": [
    {
     "data": {
      "text/plain": [
       "25.612207340762705"
      ]
     },
     "execution_count": 47,
     "metadata": {},
     "output_type": "execute_result"
    }
   ],
   "source": [
    "companydata['Interviews taken'].mean()"
   ]
  },
  {
   "cell_type": "code",
   "execution_count": 48,
   "id": "9da81f19-416e-496c-8db2-e48eaddecb0f",
   "metadata": {},
   "outputs": [
    {
     "data": {
      "text/plain": [
       "6100.0"
      ]
     },
     "execution_count": 48,
     "metadata": {},
     "output_type": "execute_result"
    }
   ],
   "source": [
    "companydata['Interviews taken'].max()"
   ]
  },
  {
   "cell_type": "code",
   "execution_count": 49,
   "id": "504c989d-0058-48a4-995e-159914c157cf",
   "metadata": {},
   "outputs": [],
   "source": [
    "def convert_job(job):\n",
    "    if isinstance(job, str):\n",
    "        if job.lower().endswith('k'):\n",
    "            return float(job[:-1]) * 1000\n",
    "        else:\n",
    "            try:\n",
    "                return float(job)\n",
    "            except ValueError:\n",
    "                return np.nan\n",
    "    else:\n",
    "        return job\n",
    "\n",
    "companydata['Total jobs available'] = companydata['Total jobs available'].apply(convert_job)"
   ]
  },
  {
   "cell_type": "code",
   "execution_count": 50,
   "id": "5800664a-0605-4bf1-9342-b6592ad2eb43",
   "metadata": {},
   "outputs": [
    {
     "data": {
      "text/plain": [
       "34.22790850748725"
      ]
     },
     "execution_count": 50,
     "metadata": {},
     "output_type": "execute_result"
    }
   ],
   "source": [
    "companydata['Total jobs available'].mean()"
   ]
  },
  {
   "cell_type": "code",
   "execution_count": 51,
   "id": "eb656217-a288-4c52-92ac-ad52eab0ed3c",
   "metadata": {},
   "outputs": [
    {
     "data": {
      "text/plain": [
       "9900.0"
      ]
     },
     "execution_count": 51,
     "metadata": {},
     "output_type": "execute_result"
    }
   ],
   "source": [
    "companydata['Total jobs available'].max()"
   ]
  },
  {
   "cell_type": "code",
   "execution_count": 52,
   "id": "71d5540e-735b-4a67-9d83-555a1ff55a5e",
   "metadata": {},
   "outputs": [
    {
     "data": {
      "text/plain": [
       "<Axes: xlabel='Interviews taken', ylabel='Total jobs available'>"
      ]
     },
     "execution_count": 52,
     "metadata": {},
     "output_type": "execute_result"
    },
    {
     "data": {
      "image/png": "[encoded data removed]",
      "text/plain": [
       "<Figure size 640x480 with 1 Axes>"
      ]
     },
     "metadata": {},
     "output_type": "display_data"
    }
   ],
   "source": [
    "sns.scatterplot(x='Interviews taken', y='Total jobs available', data=companydata)"
   ]
  },
  {
   "cell_type": "code",
   "execution_count": 53,
   "id": "a910bc7d-8279-4540-a65b-ec28a26b3b25",
   "metadata": {},
   "outputs": [
    {
     "data": {
      "text/plain": [
       "Bangalore / Bengaluru +3 more                                                           4\n",
       "Bangalore / Bengaluru +2 more                                                           3\n",
       "IT Services & Consulting | 51-200 Employees | 16 years old | Noida +4 more              3\n",
       "IT Services & Consulting | 501-1k Employees | 24 years old | Chennai +1 more            3\n",
       "IT Services & Consulting | 501-1k Employees | 14 years old | Pune +3 more               3\n",
       "                                                                                       ..\n",
       "Healthcare | 1k-5k Employees | 128 years old | Erlangen +20 more                        1\n",
       "Real Estate | 501-1k Employees | Public | 38 years old | Pune +16 more                  1\n",
       "Financial Services | 11-50 Employees | 15 years old | Mumbai +18 more                   1\n",
       "IT Services & Consulting | 501-1k Employees | Public | 28 years old | Noida +41 more    1\n",
       "Management Consulting | 201-500 Employees | 19 years old | Chennai +3 more              1\n",
       "Name: Description, Length: 9330, dtype: int64"
      ]
     },
     "execution_count": 53,
     "metadata": {},
     "output_type": "execute_result"
    }
   ],
   "source": [
    "companydata['Description'].value_counts()"
   ]
  },
  {
   "cell_type": "code",
   "execution_count": 54,
   "id": "b7761f19",
   "metadata": {},
   "outputs": [],
   "source": [
    " companydata['Promotion_Appraisal_Focused']  = (companydata['Highly rated for'] == 'Promotions / Appraisal') | (companydata['Critically rated for'] == 'Promotions / Appraisal')"
   ]
  },
  {
   "cell_type": "code",
   "execution_count": 55,
   "id": "41a93a90-5c52-4135-9c42-98befa7c56c2",
   "metadata": {},
   "outputs": [
    {
     "data": {
      "image/png": "[encoded data removed]",
      "text/plain": [
       "<Figure size 800x400 with 1 Axes>"
      ]
     },
     "metadata": {},
     "output_type": "display_data"
    }
   ],
   "source": [
    "sns.set_theme(style=\"whitegrid\")\n",
    "plt.figure(figsize=(8, 4))\n",
    "sns.boxplot(x='Promotion_Appraisal_Focused', y='Ratings', data=companydata)\n",
    "plt.title('Ratings by Promotion/Appraisal Focus')\n",
    "plt.xlabel('Focused on Promotion/Appraisal')\n",
    "plt.ylabel('Ratings')\n",
    "plt.show()"
   ]
  },
  {
   "cell_type": "code",
   "execution_count": 56,
   "id": "61be6803-eba6-40af-bf99-c0ed33e3f0a6",
   "metadata": {},
   "outputs": [
    {
     "name": "stdout",
     "output_type": "stream",
     "text": [
      "<class 'pandas.core.frame.DataFrame'>\n",
      "RangeIndex: 10000 entries, 0 to 9999\n",
      "Data columns (total 17 columns):\n",
      " #   Column                       Non-Null Count  Dtype  \n",
      "---  ------                       --------------  -----  \n",
      " 0   Company name                 10000 non-null  object \n",
      " 1   Description                  10000 non-null  object \n",
      " 2   Ratings                      10000 non-null  float64\n",
      " 3   Highly rated for             10000 non-null  object \n",
      " 4   Critically rated for         10000 non-null  object \n",
      " 5   Total reviews                10000 non-null  float64\n",
      " 6   Avg salary                   9998 non-null   float64\n",
      " 7   Interviews taken             9781 non-null   float64\n",
      " 8   Total jobs available         6077 non-null   float64\n",
      " 9   Total benefits               9921 non-null   float64\n",
      " 10  Highly rated H1              10000 non-null  object \n",
      " 11  Highly rated H2              10000 non-null  object \n",
      " 12  Highly rated H3              10000 non-null  object \n",
      " 13  Critically rated C1          10000 non-null  object \n",
      " 14  Critically rated C2          10000 non-null  object \n",
      " 15  Critically rated C3          10000 non-null  object \n",
      " 16  Promotion_Appraisal_Focused  10000 non-null  bool   \n",
      "dtypes: bool(1), float64(6), object(10)\n",
      "memory usage: 1.2+ MB\n"
     ]
    }
   ],
   "source": [
    "companydata.info()"
   ]
  },
  {
   "cell_type": "code",
   "execution_count": 57,
   "id": "eec4120d-092d-4f4a-b700-872d8f625f95",
   "metadata": {},
   "outputs": [],
   "source": [
    "#FILL NULL VALUES\n",
    "companydata['Avg salary'].fillna('0',inplace=True)\n",
    "companydata['Interviews taken'].fillna('0',inplace=True)\n",
    "companydata['Total jobs available'].fillna('0',inplace=True)\n",
    "companydata['Total benefits'].fillna('0',inplace=True)"
   ]
  },
  {
   "cell_type": "code",
   "execution_count": 58,
   "id": "5ea51b4e-486e-4142-a0f1-e118f208c709",
   "metadata": {},
   "outputs": [
    {
     "name": "stdout",
     "output_type": "stream",
     "text": [
      "<class 'pandas.core.frame.DataFrame'>\n",
      "RangeIndex: 10000 entries, 0 to 9999\n",
      "Data columns (total 17 columns):\n",
      " #   Column                       Non-Null Count  Dtype  \n",
      "---  ------                       --------------  -----  \n",
      " 0   Company name                 10000 non-null  object \n",
      " 1   Description                  10000 non-null  object \n",
      " 2   Ratings                      10000 non-null  float64\n",
      " 3   Highly rated for             10000 non-null  object \n",
      " 4   Critically rated for         10000 non-null  object \n",
      " 5   Total reviews                10000 non-null  float64\n",
      " 6   Avg salary                   10000 non-null  object \n",
      " 7   Interviews taken             10000 non-null  object \n",
      " 8   Total jobs available         10000 non-null  object \n",
      " 9   Total benefits               10000 non-null  object \n",
      " 10  Highly rated H1              10000 non-null  object \n",
      " 11  Highly rated H2              10000 non-null  object \n",
      " 12  Highly rated H3              10000 non-null  object \n",
      " 13  Critically rated C1          10000 non-null  object \n",
      " 14  Critically rated C2          10000 non-null  object \n",
      " 15  Critically rated C3          10000 non-null  object \n",
      " 16  Promotion_Appraisal_Focused  10000 non-null  bool   \n",
      "dtypes: bool(1), float64(2), object(14)\n",
      "memory usage: 1.2+ MB\n"
     ]
    }
   ],
   "source": [
    "companydata.info()"
   ]
  },
  {
   "cell_type": "markdown",
   "id": "ad91eff6",
   "metadata": {},
   "source": [
    "TASK 1: PART A -- EMPLOYEE'S PROMOTION PREDICTOR"
   ]
  },
  {
   "cell_type": "code",
   "execution_count": 59,
   "id": "09869693-b3df-45c3-94d9-4a5a9c529786",
   "metadata": {},
   "outputs": [],
   "source": [
    "def promotion_rating(row):\n",
    "    if 'Promotions / Appraisal' in row['Highly rated for']:\n",
    "        return 1\n",
    "    elif 'Promotions / Appraisal' in row['Critically rated for']:\n",
    "        return 0\n",
    "    else:\n",
    "        return 0 \n",
    "        \n",
    "companydata['promotion_target'] = companydata.apply(promotion_rating, axis=1)"
   ]
  },
  {
   "cell_type": "code",
   "execution_count": 60,
   "id": "08219c26-385b-425b-a037-0e386d2e1639",
   "metadata": {},
   "outputs": [],
   "source": [
    "#TRAIN TEST SPLIT\n",
    "X = companydata[['Ratings', 'Total benefits']]\n",
    "y = companydata['promotion_target']\n",
    "X_train, X_test, y_train, y_test = train_test_split(X, y, test_size=0.2, random_state=42)"
   ]
  },
  {
   "cell_type": "code",
   "execution_count": 61,
   "id": "baabbce7-c111-4d40-a67d-a49f58cc2d4a",
   "metadata": {},
   "outputs": [],
   "source": [
    "#SIMPLE IMPUTER\n",
    "imputer = SimpleImputer(missing_values=np.nan, strategy='mean')\n",
    "X_train_imputed = imputer.fit_transform(X_train)\n",
    "X_test_imputed = imputer.transform(X_test)\n",
    "\n",
    "#LOGISTIC REGRESSION\n",
    "logreg = LogisticRegression()\n",
    "logreg.fit(X_train_imputed, y_train)\n",
    "y_pred = logreg.predict(X_test_imputed)"
   ]
  },
  {
   "cell_type": "code",
   "execution_count": 62,
   "id": "db5b874d-869f-4e5c-a6c0-570e7aee24ef",
   "metadata": {},
   "outputs": [
    {
     "name": "stdout",
     "output_type": "stream",
     "text": [
      "Confusion matrix: [[1245  107]\n",
      " [ 278  370]]\n",
      "Accuracy: 0.8075\n",
      "f1 score: 0.6577777777777777\n",
      "precision score: 0.7756813417190775\n",
      "recall score: 0.5709876543209876\n"
     ]
    }
   ],
   "source": [
    "#CONFUSION MATRIX\n",
    "co_matrix = confusion_matrix(y_test, y_pred)\n",
    "print(f\"Confusion matrix: {co_matrix}\")\n",
    "#ACCURACY\n",
    "accuracy = accuracy_score(y_test, y_pred)\n",
    "print(f\"Accuracy: {accuracy}\")\n",
    "#F1 SCORE\n",
    "f1 = f1_score(y_test,y_pred)\n",
    "print(f\"f1 score: {f1}\")\n",
    "#PRECISION\n",
    "p_score = precision_score(y_test, y_pred)\n",
    "print(f\"precision score: {p_score}\")\n",
    "#RECALL\n",
    "r_score = recall_score(y_test, y_pred)\n",
    "print(f\"recall score: {r_score}\")"
   ]
  },
  {
   "cell_type": "code",
   "execution_count": 65,
   "id": "d003c53d-0cc6-4bbb-912c-a13a9d0edcfd",
   "metadata": {},
   "outputs": [
    {
     "data": {
      "image/png": "[encoded data removed]",
      "text/plain": [
       "<Figure size 640x480 with 2 Axes>"
      ]
     },
     "metadata": {},
     "output_type": "display_data"
    }
   ],
   "source": [
    "sns.heatmap(co_matrix, annot=True, fmt='d', cmap='Blues')\n",
    "plt.title('LOGISTIC REGRESSION')\n",
    "plt.xlabel('Predicted')\n",
    "plt.ylabel('Actual')\n",
    "plt.show()"
   ]
  },
  {
   "cell_type": "code",
   "execution_count": 66,
   "id": "1f248b38-e05e-476c-bc39-f33b4bc43898",
   "metadata": {},
   "outputs": [],
   "source": [
    "#DECISION TREES\n",
    "dtree = DecisionTreeClassifier()\n",
    "dtree.fit(X_train, y_train)\n",
    "y_pred = dtree.predict(X_test)"
   ]
  },
  {
   "cell_type": "code",
   "execution_count": 67,
   "id": "20460dd6",
   "metadata": {},
   "outputs": [
    {
     "name": "stdout",
     "output_type": "stream",
     "text": [
      "DT Confusion Matrix:\n",
      "[[1188  164]\n",
      " [ 225  423]]\n",
      "Accuracy: 0.8055\n",
      "F1 Score: 0.6850202429149798\n",
      "Precision: 0.7206132879045997\n",
      "Recall: 0.6527777777777778\n"
     ]
    }
   ],
   "source": [
    "#CONFUSION MATRIX\n",
    "conf_matrix = confusion_matrix(y_test, y_pred)\n",
    "print(f\"DT Confusion Matrix:\\n{conf_matrix}\")\n",
    "#ACCURACY\n",
    "accuracy = accuracy_score(y_test, y_pred)\n",
    "print(f\"Accuracy: {accuracy}\")\n",
    "#F1 SCORE\n",
    "f1 = f1_score(y_test, y_pred)\n",
    "print(f\"F1 Score: {f1}\")\n",
    "#PRECISION\n",
    "precision = precision_score(y_test, y_pred)\n",
    "print(f\"Precision: {precision}\")\n",
    "#RECALL\n",
    "recall = recall_score(y_test, y_pred)\n",
    "print(f\"Recall: {recall}\")"
   ]
  },
  {
   "cell_type": "code",
   "execution_count": 69,
   "id": "5af80eda-5498-444a-a4aa-cd2e484cf74c",
   "metadata": {},
   "outputs": [
    {
     "data": {
      "image/png": "[encoded data removed]",
      "text/plain": [
       "<Figure size 640x480 with 2 Axes>"
      ]
     },
     "metadata": {},
     "output_type": "display_data"
    }
   ],
   "source": [
    "#DECISION TREES CONFUSION MATRIX\n",
    "sns.heatmap(conf_matrix, annot=True, fmt='d', cmap='Blues')\n",
    "plt.title('DECISION TREES')\n",
    "plt.xlabel('Predicted')\n",
    "plt.ylabel('Actual')\n",
    "plt.show()"
   ]
  },
  {
   "cell_type": "code",
   "execution_count": 70,
   "id": "4d5319c2-2505-4df7-8940-09f2c9905918",
   "metadata": {},
   "outputs": [],
   "source": [
    "#SUPPORT VECTOR MACHINE\n",
    "svm = SVC()\n",
    "svm.fit(X_train, y_train)\n",
    "y_pred_svm = svm.predict(X_test)"
   ]
  },
  {
   "cell_type": "code",
   "execution_count": 71,
   "id": "1e7186a4",
   "metadata": {},
   "outputs": [
    {
     "name": "stdout",
     "output_type": "stream",
     "text": [
      "SVM Confusion Matrix:\n",
      "[[1352    0]\n",
      " [ 648    0]]\n",
      "SVM Accuracy: 0.676\n",
      "SVM F1 Score: 0.0\n",
      "SVM Precision: 0.0\n",
      "SVM Recall: 0.0\n"
     ]
    },
    {
     "name": "stderr",
     "output_type": "stream",
     "text": [
      "C:\\Users\\DELL\\Anaconda3\\Lib\\site-packages\\sklearn\\metrics\\_classification.py:1469: UndefinedMetricWarning: Precision is ill-defined and being set to 0.0 due to no predicted samples. Use `zero_division` parameter to control this behavior.\n",
      "  _warn_prf(average, modifier, msg_start, len(result))\n"
     ]
    }
   ],
   "source": [
    "#CONFUSION MATRIX\n",
    "conf_matrix_svm = confusion_matrix(y_test, y_pred_svm)\n",
    "print(f\"SVM Confusion Matrix:\\n{conf_matrix_svm}\")\n",
    "#ACCURACY\n",
    "accuracy_svm = accuracy_score(y_test, y_pred_svm)\n",
    "print(f\"SVM Accuracy: {accuracy_svm}\")\n",
    "#F1 SCORE\n",
    "f1_svm = f1_score(y_test, y_pred_svm)\n",
    "print(f\"SVM F1 Score: {f1_svm}\")\n",
    "#PRECISION\n",
    "precision_svm = precision_score(y_test, y_pred_svm)\n",
    "print(f\"SVM Precision: {precision_svm}\")\n",
    "#RECALL\n",
    "recall_svm = recall_score(y_test, y_pred_svm)\n",
    "print(f\"SVM Recall: {recall_svm}\")"
   ]
  },
  {
   "cell_type": "code",
   "execution_count": 72,
   "id": "8788cbe9-1312-495b-943f-648878d47c5e",
   "metadata": {},
   "outputs": [
    {
     "data": {
      "image/png": "[encoded data removed]",
      "text/plain": [
       "<Figure size 640x480 with 2 Axes>"
      ]
     },
     "metadata": {},
     "output_type": "display_data"
    }
   ],
   "source": [
    "#SUPPORT VECTOR MACHINE CONFUSION MATRIX\n",
    "sns.heatmap(conf_matrix_svm, annot=True, fmt='d', cmap='Blues')  # cmap='Blues' is optional for color\n",
    "plt.title('SUPPORT VECTOR MACHINE')\n",
    "plt.xlabel('Predicted')\n",
    "plt.ylabel('Actual')\n",
    "plt.show()"
   ]
  },
  {
   "cell_type": "markdown",
   "id": "05a3090c",
   "metadata": {},
   "source": [
    "TASK 1: PART B -- EMPLOYEE'S RETENTION PREDICTOR"
   ]
  },
  {
   "cell_type": "code",
   "execution_count": 73,
   "id": "bedd5954-15d9-49f7-9a99-419a57193807",
   "metadata": {},
   "outputs": [],
   "source": [
    "def retention(row):\n",
    "    if 'Job Security' in row['Highly rated for'] and 'Salary & Benefits' in row['Highly rated for']:\n",
    "        return 1\n",
    "    elif 'Job Security' in row['Critically rated for'] and 'Salary & Benefits' in row['Critically rated for']:\n",
    "        return 0\n",
    "    else:\n",
    "        return 0 \n",
    "        \n",
    "companydata['retention_target'] = companydata.apply(retention, axis=1)"
   ]
  },
  {
   "cell_type": "code",
   "execution_count": 74,
   "id": "a2738906-be37-4b17-bf42-61a0ff45f636",
   "metadata": {},
   "outputs": [],
   "source": [
    "# TRAIN-TEST SPLIT CONCEPT\n",
    "features = ['Ratings', 'Total jobs available']\n",
    "target = 'retention_target'\n",
    "companydata[features] = companydata[features].astype(float)\n",
    "companydata[target] = companydata[target].astype(int)\n",
    "train_data, test_data, train_labels, test_labels = train_test_split(companydata[features], companydata[target], test_size=0.2, random_state=42)\n",
    "rf_model = RandomForestClassifier(n_estimators=100, random_state=42)\n",
    "rf_model.fit(train_data, train_labels)\n",
    "rf_predictions = rf_model.predict(test_data)"
   ]
  },
  {
   "cell_type": "code",
   "execution_count": 75,
   "id": "10f69dca-7e6c-4d0f-bf02-d4ff85e1c03c",
   "metadata": {},
   "outputs": [],
   "source": [
    "# TRAIN-TEST SPLIT\n",
    "features = ['Ratings', 'Total jobs available']\n",
    "target = 'retention_target'\n",
    "train_data, test_data, train_labels, test_labels = train_test_split(companydata[features], companydata[target], test_size=0.2, random_state=42)"
   ]
  },
  {
   "cell_type": "code",
   "execution_count": 76,
   "id": "d69f0afc-09fa-4424-8df1-409e4876b63d",
   "metadata": {},
   "outputs": [],
   "source": [
    "#RANDOM FOREST\n",
    "rf_model = RandomForestClassifier(n_estimators=100, random_state=42)\n",
    "rf_model.fit(train_data, train_labels)\n",
    "rf_predictions = rf_model.predict(test_data)"
   ]
  },
  {
   "cell_type": "code",
   "execution_count": 77,
   "id": "72a8a4ea-4aac-4ffa-9fb2-946a936d908a",
   "metadata": {},
   "outputs": [
    {
     "name": "stdout",
     "output_type": "stream",
     "text": [
      "Random Forest:\n",
      "              precision    recall  f1-score   support\n",
      "\n",
      "           0       0.90      0.99      0.94      1802\n",
      "           1       0.18      0.02      0.04       198\n",
      "\n",
      "    accuracy                           0.89      2000\n",
      "   macro avg       0.54      0.51      0.49      2000\n",
      "weighted avg       0.83      0.89      0.85      2000\n",
      "\n"
     ]
    }
   ],
   "source": [
    "print(\"Random Forest:\")\n",
    "print(classification_report(test_labels, rf_predictions))"
   ]
  },
  {
   "cell_type": "code",
   "execution_count": 78,
   "id": "d72dd4a5-e504-4f43-bb66-644b9df779e6",
   "metadata": {},
   "outputs": [
    {
     "name": "stdout",
     "output_type": "stream",
     "text": [
      "[[1784   18]\n",
      " [ 194    4]]\n",
      "Accuracy: 0.894\n"
     ]
    }
   ],
   "source": [
    "#CONFUSION MATRIX\n",
    "con_matrix=confusion_matrix(test_labels, rf_predictions)\n",
    "print(con_matrix)\n",
    "#ACCURACY\n",
    "acc_rf = accuracy_score(test_labels, rf_predictions)\n",
    "print(\"Accuracy:\",acc_rf)"
   ]
  },
  {
   "cell_type": "code",
   "execution_count": 79,
   "id": "cb26b089-a2f2-40f6-bcae-8646109c00a3",
   "metadata": {},
   "outputs": [
    {
     "data": {
      "image/png": "[encoded data removed]",
      "text/plain": [
       "<Figure size 640x480 with 2 Axes>"
      ]
     },
     "metadata": {},
     "output_type": "display_data"
    }
   ],
   "source": [
    "#RANDOM FOREST CONFUSION MATRIX\n",
    "sns.heatmap(con_matrix, annot=True, fmt='d', cmap='Blues')\n",
    "plt.title('RANDOM FOREST')\n",
    "plt.xlabel('Predicted')\n",
    "plt.ylabel('Actual')\n",
    "plt.show()"
   ]
  },
  {
   "cell_type": "code",
   "execution_count": 80,
   "id": "9396a968-69a7-4f99-84da-bb00afbff5bf",
   "metadata": {},
   "outputs": [],
   "source": [
    "#GRADIENT BOOSTING\n",
    "gb_model = GradientBoostingClassifier(n_estimators=100, random_state=42)\n",
    "gb_model.fit(train_data, train_labels)\n",
    "gb_predictions = gb_model.predict(test_data)"
   ]
  },
  {
   "cell_type": "code",
   "execution_count": 81,
   "id": "4163a105-0adb-4c43-810d-3b39d6dc9c67",
   "metadata": {},
   "outputs": [
    {
     "name": "stdout",
     "output_type": "stream",
     "text": [
      "\n",
      "Gradient Boosting:\n",
      "              precision    recall  f1-score   support\n",
      "\n",
      "           0       0.90      1.00      0.95      1802\n",
      "           1       0.67      0.01      0.02       198\n",
      "\n",
      "    accuracy                           0.90      2000\n",
      "   macro avg       0.78      0.50      0.48      2000\n",
      "weighted avg       0.88      0.90      0.86      2000\n",
      "\n"
     ]
    }
   ],
   "source": [
    "print(\"\\nGradient Boosting:\")\n",
    "print(classification_report(test_labels, gb_predictions))"
   ]
  },
  {
   "cell_type": "code",
   "execution_count": 82,
   "id": "5e78d0ad-198e-4826-a4c6-14ded914d5d5",
   "metadata": {},
   "outputs": [
    {
     "name": "stdout",
     "output_type": "stream",
     "text": [
      "[[1801    1]\n",
      " [ 196    2]]\n",
      "Accuracy: 0.9015\n"
     ]
    }
   ],
   "source": [
    "#CONFUSION MATRIX\n",
    "c_matrix=confusion_matrix(test_labels, gb_predictions)\n",
    "print(c_matrix)\n",
    "#ACCURACY\n",
    "acc_gb = accuracy_score(test_labels, gb_predictions)\n",
    "print(\"Accuracy:\",acc_gb)"
   ]
  },
  {
   "cell_type": "code",
   "execution_count": 83,
   "id": "d996b557-8212-4ae2-891b-390163d7973f",
   "metadata": {},
   "outputs": [
    {
     "data": {
      "image/png": "[encoded data removed]",
      "text/plain": [
       "<Figure size 640x480 with 2 Axes>"
      ]
     },
     "metadata": {},
     "output_type": "display_data"
    }
   ],
   "source": [
    "#GRADIENT BOOSTING CONFUSION MATRIX\n",
    "sns.heatmap(c_matrix, annot=True, fmt='d', cmap='Blues')\n",
    "plt.title('GRADIENT BOOSTING')\n",
    "plt.xlabel('Predicted')\n",
    "plt.ylabel('Actual')\n",
    "plt.show()"
   ]
  },
  {
   "cell_type": "code",
   "execution_count": 84,
   "id": "b4b5e5b6-2541-41e6-ab94-09acf3befe37",
   "metadata": {},
   "outputs": [],
   "source": [
    "#SUPPORT VECTOR MACHINE\n",
    "svm = SVC()\n",
    "svm.fit(train_data, train_labels)\n",
    "svm_predictions = svm.predict(test_data)"
   ]
  },
  {
   "cell_type": "code",
   "execution_count": 85,
   "id": "7e0b5bde-083e-45b6-bbfc-2e51334180bb",
   "metadata": {},
   "outputs": [
    {
     "name": "stdout",
     "output_type": "stream",
     "text": [
      "\n",
      "Support Vector Machines (SVM):\n",
      "              precision    recall  f1-score   support\n",
      "\n",
      "           0       0.90      1.00      0.95      1802\n",
      "           1       0.00      0.00      0.00       198\n",
      "\n",
      "    accuracy                           0.90      2000\n",
      "   macro avg       0.45      0.50      0.47      2000\n",
      "weighted avg       0.81      0.90      0.85      2000\n",
      "\n"
     ]
    },
    {
     "name": "stderr",
     "output_type": "stream",
     "text": [
      "C:\\Users\\DELL\\Anaconda3\\Lib\\site-packages\\sklearn\\metrics\\_classification.py:1469: UndefinedMetricWarning: Precision and F-score are ill-defined and being set to 0.0 in labels with no predicted samples. Use `zero_division` parameter to control this behavior.\n",
      "  _warn_prf(average, modifier, msg_start, len(result))\n",
      "C:\\Users\\DELL\\Anaconda3\\Lib\\site-packages\\sklearn\\metrics\\_classification.py:1469: UndefinedMetricWarning: Precision and F-score are ill-defined and being set to 0.0 in labels with no predicted samples. Use `zero_division` parameter to control this behavior.\n",
      "  _warn_prf(average, modifier, msg_start, len(result))\n",
      "C:\\Users\\DELL\\Anaconda3\\Lib\\site-packages\\sklearn\\metrics\\_classification.py:1469: UndefinedMetricWarning: Precision and F-score are ill-defined and being set to 0.0 in labels with no predicted samples. Use `zero_division` parameter to control this behavior.\n",
      "  _warn_prf(average, modifier, msg_start, len(result))\n"
     ]
    }
   ],
   "source": [
    "print(\"\\nSupport Vector Machines (SVM):\")\n",
    "print(classification_report(test_labels, svm_predictions))"
   ]
  },
  {
   "cell_type": "code",
   "execution_count": 86,
   "id": "378442bd-c986-4168-9f0f-82f1a27208d1",
   "metadata": {},
   "outputs": [
    {
     "name": "stdout",
     "output_type": "stream",
     "text": [
      "[[1802    0]\n",
      " [ 198    0]]\n",
      "Accuracy: 0.901\n"
     ]
    }
   ],
   "source": [
    "#CONFUSION MATRIX\n",
    "conn_matrix=confusion_matrix(test_labels, svm_predictions)\n",
    "print(conn_matrix)\n",
    "#ACCURACY\n",
    "acc_svm = accuracy_score(test_labels, svm_predictions)\n",
    "print(\"Accuracy:\",acc_svm)"
   ]
  },
  {
   "cell_type": "code",
   "execution_count": 87,
   "id": "a105b109-444e-446d-9ba3-d8f321d71863",
   "metadata": {},
   "outputs": [
    {
     "data": {
      "image/png": "[encoded data removed]",
      "text/plain": [
       "<Figure size 640x480 with 2 Axes>"
      ]
     },
     "metadata": {},
     "output_type": "display_data"
    }
   ],
   "source": [
    "#SUPPORT VECTOR MACHINE CONFUSION MATRIX\n",
    "sns.heatmap(conn_matrix, annot=True, fmt='d', cmap='Blues')\n",
    "plt.title('SUPPORT VECTOR MACHINE')\n",
    "plt.xlabel('Predicted')\n",
    "plt.ylabel('Actual')\n",
    "plt.show()"
   ]
  },
  {
   "cell_type": "markdown",
   "id": "cb47d358",
   "metadata": {},
   "source": [
    "TASK 2 -- PREDICTIVE MODELLING FOR JOB SATISFACTION"
   ]
  },
  {
   "cell_type": "code",
   "execution_count": 89,
   "id": "36fcb1ac",
   "metadata": {},
   "outputs": [],
   "source": [
    "# Encode categorical features using Label Encoding\n",
    "label_encoder = LabelEncoder()\n",
    "companydata['Job_Satisfaction'] = (companydata['Highly rated H1'] == 'Work Satisfaction') | (companydata['Highly rated H2'] == 'Work Satisfaction') | (companydata['Highly rated H3'] == 'Work Satisfaction')\n",
    "companydata['Job_Satisfaction'] = label_encoder.fit_transform(companydata['Job_Satisfaction'])"
   ]
  },
  {
   "cell_type": "code",
   "execution_count": 90,
   "id": "7d24085a",
   "metadata": {},
   "outputs": [],
   "source": [
    "features = ['Ratings', 'Total reviews', 'Avg salary', 'Interviews taken', 'Total jobs available']\n",
    "target = 'Job_Satisfaction' \n",
    "# Handle missing values using SimpleImputer\n",
    "imputer = SimpleImputer(strategy='mean')\n",
    "companydata[features] = imputer.fit_transform(companydata[features])\n",
    "X = companydata[features]\n",
    "y = companydata[target]"
   ]
  },
  {
   "cell_type": "code",
   "execution_count": 91,
   "id": "49956951",
   "metadata": {},
   "outputs": [],
   "source": [
    "# Standardize numerical features using StandardScaler\n",
    "scaler = StandardScaler()\n",
    "X_scaled = scaler.fit_transform(X)"
   ]
  },
  {
   "cell_type": "code",
   "execution_count": 92,
   "id": "dabbcdf7",
   "metadata": {},
   "outputs": [],
   "source": [
    "#TRAIN TEST SPLIT\n",
    "X_train, X_test, y_train, y_test = train_test_split(X_scaled, y, test_size=0.2, random_state=42)"
   ]
  },
  {
   "cell_type": "code",
   "execution_count": 93,
   "id": "6b9b4db1",
   "metadata": {},
   "outputs": [],
   "source": [
    "#Random Forest Model\n",
    "rfr_model = RandomForestRegressor(random_state=42)\n",
    "rfr_model.fit(X_train, y_train)\n",
    "rfr_predictions = rfr_model.predict(X_test)"
   ]
  },
  {
   "cell_type": "code",
   "execution_count": 94,
   "id": "645cf6d4",
   "metadata": {},
   "outputs": [
    {
     "name": "stdout",
     "output_type": "stream",
     "text": [
      "Mean Squared Error (MSE): 0.018407\n",
      "R Squared (R2): -0.013726921011689264\n"
     ]
    }
   ],
   "source": [
    "#EVALUATION METRICS\n",
    "#MEAN SQUARED ERROR\n",
    "mse = mean_squared_error(y_test, rfr_predictions)\n",
    "print(\"Mean Squared Error (MSE):\", mse)\n",
    "#R2 SCORE\n",
    "r2 = r2_score(y_test, rfr_predictions)\n",
    "print(\"R Squared (R2):\", r2)\n"
   ]
  },
  {
   "cell_type": "code",
   "execution_count": 95,
   "id": "e29e3f04",
   "metadata": {},
   "outputs": [],
   "source": [
    "#XGBoost Model\n",
    "xgb_model = xgb.XGBRegressor(objective='reg:squarederror', random_state=42)\n",
    "xgb_model.fit(X_train, y_train)\n",
    "xgb_predictions = xgb_model.predict(X_test)"
   ]
  },
  {
   "cell_type": "code",
   "execution_count": 96,
   "id": "5c8922fe",
   "metadata": {},
   "outputs": [
    {
     "name": "stdout",
     "output_type": "stream",
     "text": [
      "Mean Squared Error (MSE): 0.020704185313664327\n",
      "R Squared (R2): -0.14023958440138928\n"
     ]
    }
   ],
   "source": [
    "#EVALUATION METRICS\n",
    "#MEAN SQUARED ERROR\n",
    "mse = mean_squared_error(y_test, xgb_predictions)\n",
    "print(\"Mean Squared Error (MSE):\", mse)\n",
    "#R2 SCORE\n",
    "r2 = r2_score(y_test, xgb_predictions)\n",
    "print(\"R Squared (R2):\", r2)"
   ]
  },
  {
   "cell_type": "code",
   "execution_count": null,
   "id": "78a9ed11",
   "metadata": {},
   "outputs": [],
   "source": []
  }
 ],
 "metadata": {
  "kernelspec": {
   "display_name": "Python 3 (ipykernel)",
   "language": "python",
   "name": "python3"
  },
  "language_info": {
   "codemirror_mode": {
    "name": "ipython",
    "version": 3
   },
   "file_extension": ".py",
   "mimetype": "text/x-python",
   "name": "python",
   "nbconvert_exporter": "python",
   "pygments_lexer": "ipython3",
   "version": "3.11.4"
  }
 },
 "nbformat": 4,
 "nbformat_minor": 5
}
